{
 "cells": [
  {
   "cell_type": "code",
   "execution_count": null,
   "id": "86ede018-6825-4006-bfe2-b9bef834c5bd",
   "metadata": {},
   "outputs": [],
   "source": []
  },
  {
   "cell_type": "code",
   "execution_count": null,
   "id": "45796d78-3e86-4e70-89c4-a822b4fe77ab",
   "metadata": {},
   "outputs": [],
   "source": []
  },
  {
   "cell_type": "code",
   "execution_count": null,
   "id": "03128af5-6115-4f37-b12f-f2294fc99d27",
   "metadata": {},
   "outputs": [],
   "source": []
  },
  {
   "cell_type": "code",
   "execution_count": 1,
   "id": "0c0261db-0824-483a-bb56-168d568b200e",
   "metadata": {},
   "outputs": [],
   "source": [
    "import pandas as pd\n",
    "import numpy as np\n",
    "import matplotlib.pyplot as plt\n",
    "import seaborn as sns\n",
    "from scipy.stats import norm, skew, kurtosis"
   ]
  },
  {
   "cell_type": "code",
   "execution_count": 6,
   "id": "112174a4-1691-4a1b-8ac6-c4c132819711",
   "metadata": {},
   "outputs": [
    {
     "name": "stdout",
     "output_type": "stream",
     "text": [
      "Orders:\n",
      "<class 'pandas.core.frame.DataFrame'>\n",
      "RangeIndex: 51290 entries, 0 to 51289\n",
      "Data columns (total 24 columns):\n",
      " #   Column          Non-Null Count  Dtype         \n",
      "---  ------          --------------  -----         \n",
      " 0   Row ID          51290 non-null  int64         \n",
      " 1   Order ID        51290 non-null  object        \n",
      " 2   Order Date      51290 non-null  datetime64[ns]\n",
      " 3   Ship Date       51290 non-null  datetime64[ns]\n",
      " 4   Ship Mode       51290 non-null  object        \n",
      " 5   Customer ID     51290 non-null  object        \n",
      " 6   Customer Name   51290 non-null  object        \n",
      " 7   Segment         51290 non-null  object        \n",
      " 8   City            51290 non-null  object        \n",
      " 9   State           51290 non-null  object        \n",
      " 10  Country         51290 non-null  object        \n",
      " 11  Postal Code     9994 non-null   float64       \n",
      " 12  Market          51290 non-null  object        \n",
      " 13  Region          51290 non-null  object        \n",
      " 14  Product ID      51290 non-null  object        \n",
      " 15  Category        51290 non-null  object        \n",
      " 16  Sub-Category    51290 non-null  object        \n",
      " 17  Product Name    51290 non-null  object        \n",
      " 18  Sales           51290 non-null  float64       \n",
      " 19  Quantity        51290 non-null  int64         \n",
      " 20  Discount        51290 non-null  float64       \n",
      " 21  Profit          51290 non-null  float64       \n",
      " 22  Shipping Cost   51290 non-null  float64       \n",
      " 23  Order Priority  51290 non-null  object        \n",
      "dtypes: datetime64[ns](2), float64(5), int64(2), object(15)\n",
      "memory usage: 9.4+ MB\n",
      "None\n",
      "\n",
      "Returns:\n",
      "<class 'pandas.core.frame.DataFrame'>\n",
      "RangeIndex: 1173 entries, 0 to 1172\n",
      "Data columns (total 3 columns):\n",
      " #   Column    Non-Null Count  Dtype \n",
      "---  ------    --------------  ----- \n",
      " 0   Returned  1173 non-null   object\n",
      " 1   Order ID  1173 non-null   object\n",
      " 2   Market    1173 non-null   object\n",
      "dtypes: object(3)\n",
      "memory usage: 27.6+ KB\n",
      "None\n",
      "\n",
      "People:\n",
      "<class 'pandas.core.frame.DataFrame'>\n",
      "RangeIndex: 13 entries, 0 to 12\n",
      "Data columns (total 2 columns):\n",
      " #   Column  Non-Null Count  Dtype \n",
      "---  ------  --------------  ----- \n",
      " 0   Person  13 non-null     object\n",
      " 1   Region  13 non-null     object\n",
      "dtypes: object(2)\n",
      "memory usage: 336.0+ bytes\n",
      "None\n"
     ]
    }
   ],
   "source": [
    "# === SETUP ===\n",
    "pd.set_option('display.max_columns', None)\n",
    "sns.set(style=\"whitegrid\")\n",
    "\n",
    "# Load dataset from Excel\n",
    "file_path = \"../data/raw/global-superstore.xlsx\"\n",
    "df_orders = pd.read_excel(file_path, sheet_name=\"Orders\")\n",
    "df_returns = pd.read_excel(file_path, sheet_name=\"Returns\")\n",
    "df_people = pd.read_excel(file_path, sheet_name=\"People\") # Load the 'People' sheet\n",
    "\n",
    "print(\"Orders:\")\n",
    "print(df_orders.info())\n",
    "print(\"\\nReturns:\")\n",
    "print(df_returns.info())\n",
    "print(\"\\nPeople:\")\n",
    "print(df_people.info()) # Print info for 'People' sheet"
   ]
  },
  {
   "cell_type": "code",
   "execution_count": 3,
   "id": "b512cd6d-9c02-43f6-990b-44756dcac0cf",
   "metadata": {},
   "outputs": [
    {
     "name": "stdout",
     "output_type": "stream",
     "text": [
      "/home/hanif/ds-ml-projects/smart_retail_engine/notebooks\n"
     ]
    }
   ],
   "source": [
    "import os\n",
    "\n",
    "# Menampilkan direktori kerja saat ini\n",
    "print(os.getcwd())\n"
   ]
  },
  {
   "cell_type": "code",
   "execution_count": null,
   "id": "29c91953-903b-48fc-bb60-0debc4718722",
   "metadata": {},
   "outputs": [],
   "source": []
  }
 ],
 "metadata": {
  "kernelspec": {
   "display_name": "Python 3 (ipykernel)",
   "language": "python",
   "name": "python3"
  },
  "language_info": {
   "codemirror_mode": {
    "name": "ipython",
    "version": 3
   },
   "file_extension": ".py",
   "mimetype": "text/x-python",
   "name": "python",
   "nbconvert_exporter": "python",
   "pygments_lexer": "ipython3",
   "version": "3.10.13"
  }
 },
 "nbformat": 4,
 "nbformat_minor": 5
}
